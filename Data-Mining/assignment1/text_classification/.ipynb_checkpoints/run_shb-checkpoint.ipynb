{
 "cells": [
  {
   "cell_type": "markdown",
   "metadata": {},
   "source": [
    "# Text Classification\n",
    "*Complete and hand in this completed worksheet (including its outputs and any supporting code outside of the worksheet) with your assignment submission. Please check the pdf file for more details.*\n",
    "\n",
    "In this exercise you will:\n",
    "    \n",
    "- implement a of spam classifier with **Naive Bayes method** for real world email messages\n",
    "- learn the **training and testing phase** for Naive Bayes classifier  \n",
    "- get an idea of the **precision-recall** tradeoff"
   ]
  },
  {
   "cell_type": "code",
   "execution_count": 1,
   "metadata": {},
   "outputs": [],
   "source": [
    "# some basic imports\n",
    "import numpy as np\n",
    "import matplotlib.pyplot as plt\n",
    "import scipy.sparse\n",
    "%matplotlib inline\n",
    "\n",
    "%load_ext autoreload\n",
    "%autoreload 2"
   ]
  },
  {
   "cell_type": "code",
   "execution_count": 2,
   "metadata": {},
   "outputs": [
    {
     "name": "stderr",
     "output_type": "stream",
     "text": [
      "d:\\python37\\lib\\site-packages\\ipykernel_launcher.py:19: SparseEfficiencyWarning: Changing the sparsity structure of a csr_matrix is expensive. lil_matrix is more efficient.\n",
      "d:\\python37\\lib\\site-packages\\ipykernel_launcher.py:26: SparseEfficiencyWarning: Changing the sparsity structure of a csr_matrix is expensive. lil_matrix is more efficient.\n"
     ]
    }
   ],
   "source": [
    "# ham_train contains the occurrences of each word in ham emails. 1-by-N vector\n",
    "ham_train = np.loadtxt('ham_train.csv', delimiter=',')\n",
    "# spam_train contains the occurrences of each word in spam emails. 1-by-N vector\n",
    "spam_train = np.loadtxt('spam_train.csv', delimiter=',')\n",
    "# N is the size of vocabulary.\n",
    "N = ham_train.shape[0]\n",
    "# There 9034 ham emails and 3372 spam emails in the training samples\n",
    "num_ham_train = 9034\n",
    "num_spam_train = 3372\n",
    "# Do smoothing\n",
    "x = np.vstack([ham_train, spam_train]) + 1\n",
    "\n",
    "# ham_test contains the occurences of each word in each ham test email. P-by-N vector, with P is number of ham test emails.\n",
    "i,j,ham_test = np.loadtxt('ham_test.txt').T\n",
    "i = i.astype(np.int)\n",
    "j = j.astype(np.int)\n",
    "ham_test_tight = scipy.sparse.coo_matrix((ham_test, (i - 1, j - 1)))\n",
    "ham_test = scipy.sparse.csr_matrix((ham_test_tight.shape[0], ham_train.shape[0]))\n",
    "ham_test[:, 0:ham_test_tight.shape[1]] = ham_test_tight\n",
    "# spam_test contains the occurences of each word in each spam test email. Q-by-N vector, with Q is number of spam test emails.\n",
    "i,j,spam_test = np.loadtxt('spam_test.txt').T\n",
    "i = i.astype(np.int)\n",
    "j = j.astype(np.int)\n",
    "spam_test_tight = scipy.sparse.csr_matrix((spam_test, (i - 1, j - 1)))\n",
    "spam_test = scipy.sparse.csr_matrix((spam_test_tight.shape[0], spam_train.shape[0]))\n",
    "spam_test[:, 0:spam_test_tight.shape[1]] = spam_test_tight\n"
   ]
  },
  {
   "cell_type": "code",
   "execution_count": 3,
   "metadata": {},
   "outputs": [],
   "source": [
    "word_dict = {}\n",
    "with open('all_word_map.txt', 'r') as file_to_read:\n",
    "    while(True):\n",
    "        line = file_to_read.readline()\n",
    "        if (not line):\n",
    "            break\n",
    "        word,num = line.split('\\t')\n",
    "        word_dict[int(num)] = word"
   ]
  },
  {
   "cell_type": "code",
   "execution_count": 4,
   "metadata": {},
   "outputs": [
    {
     "name": "stdout",
     "output_type": "stream",
     "text": [
      "nordisk\n"
     ]
    }
   ],
   "source": [
    "print(word_dict[2])"
   ]
  },
  {
   "cell_type": "code",
   "execution_count": 5,
   "metadata": {},
   "outputs": [
    {
     "name": "stdout",
     "output_type": "stream",
     "text": [
      "[30032 75525 38175 45152  9493 65397 37567 13612 56929  9452]\n",
      "1.0 386.0 nbsp\n",
      "1.0 364.0 viagra\n",
      "1.0 321.0 pills\n",
      "1.0 247.0 cialis\n",
      "1.0 244.0 voip\n",
      "1.0 224.0 php\n",
      "1.0 196.0 meds\n",
      "1.0 190.0 computron\n",
      "1.0 179.0 sex\n",
      "1.0 151.0 ooking\n"
     ]
    }
   ],
   "source": [
    "spam_ham_ratio = x[1] / x[0]\n",
    "K = 10\n",
    "top_k_idx = spam_ham_ratio.argsort()[::-1][0:K]\n",
    "print(top_k_idx)\n",
    "\n",
    "for idx in top_k_idx:\n",
    "    print(x[0][idx], x[1][idx], word_dict[idx + 1])"
   ]
  },
  {
   "cell_type": "code",
   "execution_count": 33,
   "metadata": {},
   "outputs": [
    {
     "name": "stdout",
     "output_type": "stream",
     "text": [
      "(1, 77386)\n"
     ]
    }
   ],
   "source": [
    "print(ham_test[0].shape)"
   ]
  },
  {
   "cell_type": "markdown",
   "metadata": {},
   "source": [
    "## Now let's implement a ham/spam email classifier. Please refer to the PDF file for details"
   ]
  },
  {
   "cell_type": "code",
   "execution_count": 99,
   "metadata": {},
   "outputs": [],
   "source": [
    "from likelihood import likelihood\n",
    "# TODO\n",
    "# Implement a ham/spam email classifier, and calculate the accuracy of your classifier\n",
    "\n",
    "# Hint: you can directly do matrix multiply between scipy.sparse.coo_matrix and numpy.array.\n",
    "# Specifically, you can use sparse_matrix * np_array to do this. Note that when you use \"*\" operator\n",
    "# between numpy array, this is typically an elementwise multiply.\n",
    "\n",
    "l = np.log(likelihood(x))\n",
    "\n",
    "#return 0:ham/1:spam\n",
    "def classify(X):\n",
    "    t0 = l[0]\n",
    "    t1 = l[1]\n",
    "    S0 = np.sum(X * t0) + np.log(num_ham_train / (num_ham_train + num_spam_train))\n",
    "    S1 = np.sum(X * t1) + np.log(num_spam_train / (num_ham_train + num_spam_train))\n",
    "    if (S0 > S1):\n",
    "        return 0\n",
    "    else:\n",
    "        return 1\n",
    "# begin answer\n",
    "# end answer"
   ]
  },
  {
   "cell_type": "code",
   "execution_count": 103,
   "metadata": {},
   "outputs": [
    {
     "name": "stdout",
     "output_type": "stream",
     "text": [
      "(1124, 77386) (3011, 77386)\n",
      "[[2983.   28.]\n",
      " [  31. 1093.]]\n",
      "0.9857315598548972\n",
      "0.9750223015165032 0.9724199288256228\n"
     ]
    }
   ],
   "source": [
    "result = np.zeros((2,2))\n",
    "print(spam_test.shape, ham_test.shape)\n",
    "spam_test_num = spam_test.shape[0]\n",
    "ham_test_num = ham_test.shape[0]\n",
    "for i in range(ham_test_num):\n",
    "    #print(ham_test[i])\n",
    "    result[0][classify(ham_test[i])] += 1\n",
    "for i in range(spam_test_num):\n",
    "    result[1][classify(spam_test[i])] += 1\n",
    "print(result)\n",
    "print((result[0][0] + result[1][1]) / (sum(sum(result))))\n",
    "TP = result[1][1]\n",
    "TN = result[0][0]\n",
    "FP = result[0][1]\n",
    "FN = result[1][0]\n",
    "precision = TP / (TP + FP)\n",
    "recall = TP / (TP + FN)\n",
    "print(precision, recall)"
   ]
  }
 ],
 "metadata": {
  "kernelspec": {
   "display_name": "Python 3",
   "language": "python",
   "name": "python3"
  },
  "language_info": {
   "codemirror_mode": {
    "name": "ipython",
    "version": 3
   },
   "file_extension": ".py",
   "mimetype": "text/x-python",
   "name": "python",
   "nbconvert_exporter": "python",
   "pygments_lexer": "ipython3",
   "version": "3.7.3"
  }
 },
 "nbformat": 4,
 "nbformat_minor": 2
}
