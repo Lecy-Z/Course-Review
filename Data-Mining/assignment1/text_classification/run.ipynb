{
 "cells": [
  {
   "cell_type": "markdown",
   "metadata": {},
   "source": [
    "# Text Classification\n",
    "*Complete and hand in this completed worksheet (including its outputs and any supporting code outside of the worksheet) with your assignment submission. Please check the pdf file for more details.*\n",
    "\n",
    "In this exercise you will:\n",
    "    \n",
    "- implement a of spam classifier with **Naive Bayes method** for real world email messages\n",
    "- learn the **training and testing phase** for Naive Bayes classifier  \n",
    "- get an idea of the **precision-recall** tradeoff"
   ]
  },
  {
   "cell_type": "code",
   "execution_count": 1,
   "metadata": {},
   "outputs": [],
   "source": [
    "# some basic imports\n",
    "import numpy as np\n",
    "import matplotlib.pyplot as plt\n",
    "import scipy.sparse\n",
    "%matplotlib inline\n",
    "\n",
    "%load_ext autoreload\n",
    "%autoreload 2"
   ]
  },
  {
   "cell_type": "code",
   "execution_count": 67,
   "metadata": {},
   "outputs": [
    {
     "name": "stderr",
     "output_type": "stream",
     "text": [
      "d:\\python37\\lib\\site-packages\\ipykernel_launcher.py:19: SparseEfficiencyWarning: Changing the sparsity structure of a csr_matrix is expensive. lil_matrix is more efficient.\n",
      "d:\\python37\\lib\\site-packages\\ipykernel_launcher.py:27: SparseEfficiencyWarning: Changing the sparsity structure of a csr_matrix is expensive. lil_matrix is more efficient.\n"
     ]
    }
   ],
   "source": [
    "# ham_train contains the occurrences of each word in ham emails. 1-by-N vector\n",
    "ham_train = np.loadtxt('ham_train.csv', delimiter=',')\n",
    "# spam_train contains the occurrences of each word in spam emails. 1-by-N vector\n",
    "spam_train = np.loadtxt('spam_train.csv', delimiter=',')\n",
    "# N is the size of vocabulary.\n",
    "N = ham_train.shape[0]\n",
    "# There 9034 ham emails and 3372 spam emails in the training samples\n",
    "num_ham_train = 9034\n",
    "num_spam_train = 3372\n",
    "# Do smoothing\n",
    "x = np.vstack([ham_train, spam_train]) + 1\n",
    "\n",
    "# ham_test contains the occurences of each word in each ham test email. P-by-N vector, with P is number of ham test emails.\n",
    "i,j,ham_test = np.loadtxt('ham_test.txt').T\n",
    "i = i.astype(np.int)\n",
    "j = j.astype(np.int)\n",
    "ham_test_tight = scipy.sparse.coo_matrix((ham_test, (i - 1, j - 1)))\n",
    "ham_test = scipy.sparse.csr_matrix((ham_test_tight.shape[0], ham_train.shape[0]))\n",
    "ham_test[:, 0:ham_test_tight.shape[1]] = ham_test_tight\n",
    "\n",
    "# spam_test contains the occurences of each word in each spam test email. Q-by-N vector, with Q is number of spam test emails.\n",
    "i,j,spam_test = np.loadtxt('spam_test.txt').T\n",
    "i = i.astype(np.int)\n",
    "j = j.astype(np.int)\n",
    "spam_test_tight = scipy.sparse.csr_matrix((spam_test, (i - 1, j - 1)))\n",
    "spam_test = scipy.sparse.csr_matrix((spam_test_tight.shape[0], spam_train.shape[0]))\n",
    "spam_test[:, 0:spam_test_tight.shape[1]] = spam_test_tight\n"
   ]
  },
  {
   "cell_type": "code",
   "execution_count": 45,
   "metadata": {},
   "outputs": [
    {
     "name": "stdout",
     "output_type": "stream",
     "text": [
      "[   1    1    1 ... 1124 1124 1124] [ 2261  2509  2557 ... 75923 76519 77219]\n"
     ]
    }
   ],
   "source": [
    "print (i, j)"
   ]
  },
  {
   "cell_type": "code",
   "execution_count": 25,
   "metadata": {},
   "outputs": [
    {
     "name": "stdout",
     "output_type": "stream",
     "text": [
      "(30033, 386, 1) nbsp\n",
      "(75526, 364, 1) viagra\n",
      "(38176, 321, 1) pills\n",
      "(45153, 247, 1) cialis\n",
      "(9494, 244, 1) voip\n",
      "(65398, 224, 1) php\n",
      "(37568, 196, 1) meds\n",
      "(13613, 190, 1) computron\n",
      "(56930, 179, 1) sex\n",
      "(9453, 151, 1) ooking\n"
     ]
    }
   ],
   "source": [
    "all_word_map_file = open(\"all_word_map.txt\", \"r\")\n",
    "all_word_map = {}\n",
    "for line in all_word_map_file.readlines():\n",
    "    line = line.strip().split('\\t')\n",
    "    all_word_map[int(line[1])] = line[0]\n",
    "\n",
    "letters = ham_train.shape[0]\n",
    "ham_train_sorted = sorted([(i+1, int(x[1][i]), int(x[0][i])) for i in range(0, letters)], key = lambda x: x[1] / x[2], reverse = True)\n",
    "for ch in ham_train_sorted[0:10]:\n",
    "    print (ch, all_word_map[ch[0]])"
   ]
  },
  {
   "cell_type": "code",
   "execution_count": 91,
   "metadata": {},
   "outputs": [
    {
     "name": "stdout",
     "output_type": "stream",
     "text": [
      "1.0\n"
     ]
    }
   ],
   "source": [
    "print (np.sum(l[0]))"
   ]
  },
  {
   "cell_type": "markdown",
   "metadata": {},
   "source": [
    "## Now let's implement a ham/spam email classifier. Please refer to the PDF file for details"
   ]
  },
  {
   "cell_type": "code",
   "execution_count": 96,
   "metadata": {},
   "outputs": [
    {
     "name": "stdout",
     "output_type": "stream",
     "text": [
      "accuracy: 0.9857315598548972\n",
      "precision: 0.9750223015165032\n",
      "recall: 0.9724199288256228\n"
     ]
    }
   ],
   "source": [
    "from likelihood import likelihood\n",
    "import math\n",
    "\n",
    "# Implement a ham/spam email classifier, and calculate the accuracy of your classifier\n",
    "\n",
    "# Hint: you can directly do matrix multiply between scipy.sparse.coo_matrix and numpy.array.\n",
    "# Specifically, you can use sparse_matrix * np_array to do this. Note that when you use \"*\" operator\n",
    "# between numpy array, this is typically an elementwise multiply.\n",
    "num_ham_train = 9034\n",
    "num_spam_train = 3372\n",
    "\n",
    "# begin answer\n",
    "l = likelihood(x)\n",
    "logl = np.log(l)\n",
    "p_ham = num_ham_train / (num_ham_train + num_spam_train)\n",
    "p_spam = num_spam_train / (num_ham_train + num_spam_train)\n",
    "    \n",
    "ham_try_ham   = ham_test  * logl[0] + math.log(p_ham)\n",
    "ham_try_spam  = ham_test  * logl[1] + math.log(p_spam)\n",
    "spam_try_ham  = spam_test * logl[0] + math.log(p_ham)\n",
    "spam_try_spam = spam_test * logl[1] + math.log(p_spam)\n",
    "\n",
    "\n",
    "'''print (test[:, i].shape, try_ham.shape)\n",
    "for ch in test[:, i]:\n",
    "    print (ch, type(ch))\n",
    "try_ham  += test[:, i] * log_p_ham_i\n",
    "try_spam += test[:, i] * log_p_spam_i'''\n",
    "\n",
    "total = ham_test.shape[0] + spam_test.shape[0]\n",
    "\n",
    "TN = np.sum(ham_try_ham >= ham_try_spam)\n",
    "TP = np.sum(spam_try_ham < spam_try_spam)\n",
    "FN = np.sum(spam_try_ham >= spam_try_spam)\n",
    "FP = np.sum(ham_try_ham < ham_try_spam)\n",
    "\n",
    "print (\"accuracy:\", (TP + TN) / total)\n",
    "print (\"precision:\", TP / (TP + FP))\n",
    "print (\"recall:\", TP / (TP + FN))\n",
    "    \n",
    "# end answer"
   ]
  }
 ],
 "metadata": {
  "kernelspec": {
   "display_name": "Python 3",
   "language": "python",
   "name": "python3"
  },
  "language_info": {
   "codemirror_mode": {
    "name": "ipython",
    "version": 3
   },
   "file_extension": ".py",
   "mimetype": "text/x-python",
   "name": "python",
   "nbconvert_exporter": "python",
   "pygments_lexer": "ipython3",
   "version": "3.7.3"
  }
 },
 "nbformat": 4,
 "nbformat_minor": 2
}
